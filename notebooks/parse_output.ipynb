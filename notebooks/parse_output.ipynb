{
 "cells": [
  {
   "cell_type": "code",
   "execution_count": null,
   "id": "3c35eb83-8425-41f4-9cb0-3f4cb632a282",
   "metadata": {},
   "outputs": [],
   "source": [
    "import pandas as pd\n",
    "from pathlib import Path"
   ]
  },
  {
   "cell_type": "code",
   "execution_count": null,
   "id": "87740871-5b58-49a0-bbb7-9a98162f142c",
   "metadata": {},
   "outputs": [],
   "source": [
    "import sys\n",
    "# sys.path.append(\"../source/\")\n",
    "sys.path.append(\"../\")"
   ]
  },
  {
   "cell_type": "code",
   "execution_count": null,
   "id": "30861b2e-b63c-441d-8b20-324878806ccc",
   "metadata": {},
   "outputs": [],
   "source": [
    "from source.analysis_viz import AgentInfo, WorldModelInfo, ProgressTracker"
   ]
  },
  {
   "cell_type": "code",
   "execution_count": null,
   "id": "4c9cd392-cdc0-4254-9c9e-d805451e0c6a",
   "metadata": {},
   "outputs": [],
   "source": [
    "import matplotlib.pyplot as plt"
   ]
  },
  {
   "cell_type": "code",
   "execution_count": null,
   "id": "e0d3d9d0-f2e7-482b-927e-6c0b6cb0eed7",
   "metadata": {},
   "outputs": [],
   "source": [
    "import os"
   ]
  },
  {
   "cell_type": "code",
   "execution_count": null,
   "id": "e31f5ce7-0da9-4771-96f8-a4eb8d2ec748",
   "metadata": {},
   "outputs": [],
   "source": [
    "import torch\n",
    "import numpy as np"
   ]
  },
  {
   "cell_type": "code",
   "execution_count": null,
   "id": "1e283497-7f7c-4c24-bd1b-0c91a740a64f",
   "metadata": {},
   "outputs": [],
   "source": [
    "root_dir = Path(\"/envroot/trainings/camera_train\")\n",
    "cmd_dir = root_dir / \"collected_commands\"\n",
    "pos_dir = root_dir / \"collected_positions\"\n",
    "embed_dir = root_dir / \"collected_embeds\"\n",
    "img_dir = root_dir / \"collected_imgs\"\n",
    "\n",
    "wm_dir = root_dir / \"world_models\"\n",
    "ag_dir = root_dir / \"agents\""
   ]
  },
  {
   "cell_type": "code",
   "execution_count": null,
   "id": "2c1cf0bf-eacc-49b5-b554-9dd1e8521924",
   "metadata": {},
   "outputs": [],
   "source": [
    "# prog_file = root_dir / \"progress_model_names.txt\"\n",
    "# with open(prog_file, \"r\") as f:\n",
    "#     models, timestamps = list(zip(*[map(str.strip, l.strip().split(\"@\")) for l in f]))"
   ]
  },
  {
   "cell_type": "code",
   "execution_count": null,
   "id": "d0ef2da1-fc95-49e0-bb5d-ea714fba40f7",
   "metadata": {},
   "outputs": [],
   "source": [
    "print(ProgressTracker(root_dir))"
   ]
  },
  {
   "cell_type": "code",
   "execution_count": null,
   "id": "95d49ba6-7603-4967-b873-f8251b57cc87",
   "metadata": {},
   "outputs": [],
   "source": [
    "ag = AgentInfo(root_dir, \"ag_00_00\")\n",
    "print(ag)\n",
    "pos, cmd, embed, reward = ag.load_collected_data(0)\n",
    "\n",
    "len(pos), len(cmd), len(embed), len(reward)\n",
    "# remove the last postion, where the reward is not used to guide the camera\n",
    "# pos = [p[:-1] for p in pos]"
   ]
  },
  {
   "cell_type": "code",
   "execution_count": null,
   "id": "b76f1d1d-12f7-46db-926d-35e578ec29b9",
   "metadata": {},
   "outputs": [],
   "source": [
    "wm = WorldModelInfo(root_dir, ag.info_dict[\"restart_00\"][\"parent_model\"])\n",
    "wm"
   ]
  },
  {
   "cell_type": "code",
   "execution_count": null,
   "id": "e8bc2571-8f08-4f65-b5d4-2ecb66ba7623",
   "metadata": {},
   "outputs": [],
   "source": [
    "# action_rewards = [target_predictor(embed[i].to(device), torch.tensor(pos[i][:-1]).to(device, dtype=torch.float32)) for i in range(len(pos))]\n",
    "action_rewards = torch.vstack(reward).numpy()\n",
    "rewards = np.max(action_rewards, axis=1)"
   ]
  },
  {
   "cell_type": "code",
   "execution_count": null,
   "id": "ee31560c-4826-489b-86d6-218cf3e74edb",
   "metadata": {},
   "outputs": [],
   "source": [
    "target_embeds = [torch.mean(embed[i], axis=1) for i in range(len(embed))]"
   ]
  },
  {
   "cell_type": "code",
   "execution_count": null,
   "id": "8f2e1aa2-2690-4335-bbd7-e76a63e670a9",
   "metadata": {},
   "outputs": [],
   "source": [
    "from source.analysis_viz import scale_pca_tsne_transform\n",
    "embed_tsne, embed_pca = scale_pca_tsne_transform(torch.vstack(target_embeds))"
   ]
  },
  {
   "cell_type": "code",
   "execution_count": null,
   "id": "c7bd6852-b42c-4e98-9803-cf4d34c83a94",
   "metadata": {},
   "outputs": [],
   "source": [
    "pos = [p[:-1] for p in pos]\n",
    "arr_pos = np.vstack(pos)"
   ]
  },
  {
   "cell_type": "code",
   "execution_count": null,
   "id": "a2de9409-0612-4bb0-8c20-5de2d241de0e",
   "metadata": {},
   "outputs": [],
   "source": [
    "plt.figure(figsize=(8, 6))\n",
    "vmin = np.quantile(rewards, 0.1)\n",
    "vmax = np.quantile(rewards, 0.9)\n",
    "plt.scatter(embed_tsne[:, 0], embed_tsne[:, 1], s=2,\n",
    "              c=rewards, cmap=\"jet\", vmin=vmin, vmax=vmax)\n",
    "plt.gca().set_aspect(\"equal\")\n",
    "plt.xlabel(\"tSNE axis-1\")\n",
    "plt.ylabel(\"tSNE axis-2\")\n",
    "cbar = plt.colorbar()\n",
    "cbar.ax.set_ylabel('Reward')\n",
    "# plt.show()\n",
    "plt.savefig(\"tsne.png\")\n",
    "# ax[1].legend()\n",
    "# ax[1].set_xlim([-80, 80])\n",
    "# ax[1].set_ylim([-80, 80])\n",
    "\n",
    "fig, ax = plt.subplots(2, 1, figsize=(8, 6))\n",
    "# for p in pos:\n",
    "    # ax.scatter(p[:, 0], p[:, 1], s=1)\n",
    "# ax.scatter(pos[:, 0], pos[:, 1], s=pos[:, 2] / 100)\n",
    "i = 1\n",
    "im = ax[i].scatter(arr_pos[:, 0], arr_pos[:, 1], c=np.log10(arr_pos[:, 2]), s=2)\n",
    "ax[i].set_xlim([-185, 185])\n",
    "ax[i].set_ylim([-95, 5])\n",
    "ax[i].set_xlabel(\"Pan (deg)\")\n",
    "ax[i].set_ylabel(\"Tilt (deg)\")\n",
    "ax[i].set_aspect(\"equal\")\n",
    "cbar = fig.colorbar(im)\n",
    "cbar.ax.set_ylabel('$\\log_{10}$ Zoom')\n",
    "i = 0\n",
    "im = ax[i].scatter(arr_pos[:, 0], arr_pos[:, 1], c=rewards, s=2, cmap=\"jet\", vmin=vmin, vmax=vmax)\n",
    "ax[i].set_xlim([-185, 185])\n",
    "ax[i].set_ylim([-95, 5])\n",
    "ax[i].set_xlabel(\"Pan (deg)\")\n",
    "ax[i].set_ylabel(\"Tilt (deg)\")\n",
    "ax[i].set_aspect(\"equal\")\n",
    "cbar = fig.colorbar(im)\n",
    "cbar.ax.set_ylabel('Reward')\n",
    "fig.savefig(\"pointings.png\")\n",
    "# plt.show()\n",
    "# fig.savefig(\"pointings.png\")"
   ]
  },
  {
   "cell_type": "code",
   "execution_count": null,
   "id": "d2f023e9-16d1-4aa4-ab65-93aa28deac15",
   "metadata": {},
   "outputs": [],
   "source": [
    "# fig, ax = plt.subplots(1, 1, figsize=(8, 4))\n",
    "fig = plt.figure(figsize=(12, 8))\n",
    "ax = fig.add_subplot(projection='3d')\n",
    "# for p in pos:\n",
    "    # ax.scatter(p[:, 0], p[:, 1], s=1)\n",
    "im = ax.scatter(arr_pos[:, 0], arr_pos[:, 2], arr_pos[:, 1], s=2, c=rewards, cmap=\"jet\", vmin=vmin, vmax=vmax)\n",
    "# ax.set_xlim([-185, 185])\n",
    "# ax.set_ylim([-95, 5])\n",
    "ax.set_xlabel(\"Pan (deg)\")\n",
    "ax.set_zlabel(\"Tilt (deg)\")\n",
    "ax.set_ylabel(\"Zoom\")\n",
    "fig.colorbar(im)\n",
    "# ax.set_aspect(\"equal\")\n",
    "# ax.set_ylim(700, 0)\n",
    "# fig.savefig(\"pointings.png\")"
   ]
  },
  {
   "cell_type": "code",
   "execution_count": null,
   "id": "7bf3c36b-3452-4a3b-8234-abf306c5d66d",
   "metadata": {},
   "outputs": [],
   "source": [
    "# sel = (arr_pos[:, 0] < -0) & (arr_pos[:, 0] > -15) #& (pos[:, 1] < -65) & (pos[:, 1] > -75)\n",
    "# print(pos[sel], np.vstack(cmd)[sel])\n",
    "\n",
    "# plt.plot(rewards[sel])\n",
    "# plt.ylabel(\"Reward\")\n",
    "# plt.xlabel(\"Number of movement\")"
   ]
  },
  {
   "cell_type": "code",
   "execution_count": null,
   "id": "15524322-db93-4a45-b690-f42124e7f59d",
   "metadata": {},
   "outputs": [],
   "source": [
    "from matplotlib.backends.backend_pdf import PdfPages"
   ]
  },
  {
   "cell_type": "code",
   "execution_count": null,
   "id": "f6528749-35d8-407b-a761-9d23b8d7ff3e",
   "metadata": {},
   "outputs": [],
   "source": [
    "%matplotlib agg\n",
    "pp = PdfPages('all_pointings_output.pdf')\n",
    "li_rewards = rewards.reshape(-1, 30)\n",
    "for j in range(len(pos)):\n",
    "    fig, ax = plt.subplots(2, 1, figsize=(8, 6))\n",
    "    i = 0\n",
    "    im = ax[i].scatter(pos[j][:, 0], pos[j][:, 1], c=li_rewards[j], s=2, cmap=\"jet\", vmin=vmin, vmax=vmax)\n",
    "    ax[i].set_xlim([-185, 185])\n",
    "    ax[i].set_ylim([-95, 5])\n",
    "    ax[i].set_xlabel(\"Pan (deg)\")\n",
    "    ax[i].set_ylabel(\"Tilt (deg)\")\n",
    "    ax[i].set_aspect(\"equal\")\n",
    "    cbar = fig.colorbar(im)\n",
    "    cbar.ax.set_ylabel('Reward')\n",
    "    i = 1\n",
    "    ax[i].plot(li_rewards[j])\n",
    "    ax[i].set_ylabel(\"Reward\")\n",
    "    ax[i].set_xlabel(\"Number of movement\")\n",
    "    pp.savefig(fig)\n",
    "    # plt.plot(rewards[sel])\n",
    "    # plt.ylabel(\"Reward\")\n",
    "    # plt.xlabel(\"Number of movement\")\n",
    "pp.close()"
   ]
  },
  {
   "cell_type": "code",
   "execution_count": null,
   "id": "6d4fd6b1-da22-41aa-b983-89a206c297af",
   "metadata": {},
   "outputs": [],
   "source": [
    "# import matplotlib.animation as animation\n",
    "\n",
    "# # pos = []\n",
    "# # for fn in fnames:\n",
    "# #     with open(pos_dir / f\"{fn}.txt\", \"r\") as f:\n",
    "# #         pos.append(np.array([l.strip().split(\",\") for l in f.readlines()], dtype=float))\n",
    "# # pos = np.vstack(pos)\n",
    "\n",
    "# fig, ax = plt.subplots(1, 1, figsize=(8, 4))\n",
    "# ax.set_xlim([-185, 185])\n",
    "# ax.set_ylim([-95, 5])\n",
    "# ax.set_xlabel(\"Pan (deg)\")\n",
    "# ax.set_ylabel(\"Tilt (deg)\")\n",
    "# ax.set_aspect(\"equal\")\n",
    "# scat = ax.scatter(pos[0, 0], pos[0, 1], s=5, c='tab:red')\n",
    "\n",
    "\n",
    "# def animate(i):\n",
    "#     # if i < 5:\n",
    "#     #     for j in range(i-1):\n",
    "#     #         scat.plot(pos[j, 0], pos[j, 1], s=5)\n",
    "#     # else:\n",
    "#     # scat.set_offsets((pos[i, 0], pos[i, 1]))\n",
    "#     # for j in range(max(i-5, 0), i):\n",
    "#     # # if i > 0:\n",
    "#     ax.scatter(pos[i, 0], pos[i, 1], s=5, c='tab:red')\n",
    "#     return scat,\n",
    "\n",
    "# # def update(frame):\n",
    "# #     global positions\n",
    "# #     positions += velocities  # Update positions\n",
    "# #     lo = 0 if frame < 10 else frame - 10\n",
    "# #     for i in range(lo, frame):\n",
    "# #         scat.set_offsets(positions[i])\n",
    "# #     # Update the trails\n",
    "# #     for i in range(num_points):\n",
    "# #         trails[i].append(positions[i].copy())\n",
    "# #         if len(trails[i]) > 10:  # Limit trail length\n",
    "# #             trails[i].pop(0)\n",
    "\n",
    "# #     # Update the scatter plot\n",
    "# #     scatter.set_offsets(positions)\n",
    "\n",
    "# #     # Draw the trails\n",
    "# #     for trail in trails:\n",
    "# #         if len(trail) > 1:\n",
    "# #             trail_array = np.array(trail)\n",
    "# #             ax.plot(trail_array[:, 0], trail_array[:, 1], 'b-', alpha=0.5)\n",
    "\n",
    "# #     return scatter,\n",
    "\n",
    "\n",
    "# ani = animation.FuncAnimation(fig, animate, repeat=True,\n",
    "#                                     frames=len(pos) - 1, interval=20)\n",
    "# # plt.show()\n",
    "# writer = animation.PillowWriter(fps=15,\n",
    "#                                 metadata=dict(artist='Me'),\n",
    "#                                 bitrate=1800)\n",
    "# ani.save('scatter.gif', writer=writer)"
   ]
  },
  {
   "cell_type": "code",
   "execution_count": null,
   "id": "2a99f66e-87d9-4ae8-b1c8-7e0470c111e5",
   "metadata": {},
   "outputs": [],
   "source": []
  }
 ],
 "metadata": {
  "kernelspec": {
   "display_name": "Python 3 (ipykernel)",
   "language": "python",
   "name": "python3"
  },
  "language_info": {
   "codemirror_mode": {
    "name": "ipython",
    "version": 3
   },
   "file_extension": ".py",
   "mimetype": "text/x-python",
   "name": "python",
   "nbconvert_exporter": "python",
   "pygments_lexer": "ipython3",
   "version": "3.10.14"
  }
 },
 "nbformat": 4,
 "nbformat_minor": 5
}
